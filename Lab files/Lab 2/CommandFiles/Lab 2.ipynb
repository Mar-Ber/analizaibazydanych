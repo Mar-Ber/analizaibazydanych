{
 "cells": [
  {
   "cell_type": "code",
   "execution_count": 1,
   "id": "35b5f8d2",
   "metadata": {},
   "outputs": [],
   "source": [
    "import pandas as pd"
   ]
  },
  {
   "cell_type": "code",
   "execution_count": 4,
   "id": "55d8e61c",
   "metadata": {},
   "outputs": [],
   "source": [
    "#Create a column filtering list\n",
    "col_num = [0]\n",
    "col_num.extend(list(range(1, 63, 2)))\n",
    "\n",
    "#Column names\n",
    "list_name = ['name']\n",
    "for i in range(1, 10):\n",
    "    list_name.extend(['0{}'.format(i)])\n",
    "for i in range(10, 32):\n",
    "    list_name.extend(['{}'.format(i)])   \n",
    "#Read original data\n",
    "data = pd.read_excel('../AnalysisData/weather_importable.xlsx', index_col=None, header=None, names=list_name, usecols=col_num)\n",
    "\n",
    "#Replace -9999 with NA\n",
    "data.replace(-9999, pd.NA, inplace=True)\n",
    "\n",
    "#Separation of information in the first column\n",
    "for i in range(0,data.shape[0]):\n",
    "    first_col = data['name'][i]\n",
    "    new_col = first_col[0:11]+' '+first_col[11:15]+' '+first_col[15:17]+' '+first_col[17:21]\n",
    "    data['name'][i] = new_col\n",
    "data[['id','year','month','elem']] = data.name.str.split(' ', expand=True)\n",
    "new_list_name = ['id','year','month','elem']\n",
    "new_list_name.extend(list_name[1:])\n",
    "data = data[new_list_name]\n",
    "\n",
    "#Data filtration\n",
    "data = data[data['year'] == '2010']\n",
    "data = data[data['month'] <= '05']\n",
    "data.set_axis(list(range(1,16)), axis=0, inplace=True)\n",
    "\n",
    "#Melt\n",
    "data = data.melt(id_vars=['id','year','month','elem'])\n",
    "\n",
    "#Data tidy\n",
    "data = data[(pd.notna(data['value']))]\n",
    "data.set_axis(list(range(1,data.shape[0]+1)), axis=0, inplace=True)\n",
    "data['date'] = data['year']+'-'+data['month']+'-'+(data['variable'])\n",
    "data = data[['id','date','elem','value']]\n",
    "\n",
    "#Prcp data tidy\n",
    "prcp_data = data[data['elem'] == 'PRCP']\n",
    "prcp_data = prcp_data[prcp_data['value'] > 0]\n",
    "prcp_data.set_axis(list(range(1,prcp_data.shape[0]+1)), axis=0, inplace=True)\n",
    "prcp_data = prcp_data[['id','date','value']]\n",
    "prcp_data = prcp_data.rename(columns={\"value\": \"prcp\"})\n",
    "#Prcp data tidy - repair value\n",
    "for i in range(1,prcp_data.shape[0]+1):\n",
    "    val = prcp_data['prcp'][i]\n",
    "    val = str(val)\n",
    "    prcp_data['prcp'][i] = val[:-1]+'.'+val[-1:]\n",
    "\n",
    "#Temp data tidy\n",
    "temp_data = data[data['elem'] != 'PRCP']\n",
    "temp_data.set_axis(list(range(1,temp_data.shape[0]+1)), axis=0, inplace=True)\n",
    "#Temp data tidy - repair value\n",
    "for i in range(1,temp_data.shape[0]+1):\n",
    "    val = temp_data['value'][i]\n",
    "    val = str(val)\n",
    "    temp_data['value'][i] = val[:-1]+'.'+val[-1:]\n",
    "#Temp data tidy - separation of columns\n",
    "temp_data = temp_data[['id','date','value']]\n",
    "temp_data['value_2'] = temp_data['value']\n",
    "for i in range(1,temp_data.shape[0]):\n",
    "    temp_data['value_2'][i] = temp_data['value_2'][i+1]\n",
    "temp_data = temp_data.drop(list(range(2, temp_data.shape[0]+1, 2)), axis=0)\n",
    "temp_data = temp_data.rename(columns={\"value\": \"tmax\", \"value_2\": \"tmin\"})\n",
    "temp_data['date'] = pd.to_datetime(temp_data.date)\n",
    "temp_data['date'] = temp_data['date'].dt.date\n",
    "temp_data.sort_values(by='date', inplace=True)\n",
    "temp_data.set_axis(list(range(1,temp_data.shape[0]+1)), axis=0, inplace=True)\n",
    "\n",
    "#Saving data to file\n",
    "temp_data.to_excel(excel_writer=\"../AnalysisData/temp_data.xlsx\", index=False)\n",
    "prcp_data.to_excel(excel_writer=\"../AnalysisData/prcp_data.xlsx\", index=False)\n",
    "\n",
    "#Set title\n",
    "prcp_data = prcp_data.style.set_caption(\"The total liquid water equivalent of presumably all precipitation on the observed days in the period 01.2010-05.2010:\")\n",
    "temp_data = temp_data.style.set_caption(\"The maximum and minimum temperatures on the observed days in the period 01.2010-05.2010:\")"
   ]
  },
  {
   "cell_type": "code",
   "execution_count": 5,
   "id": "a65542bc",
   "metadata": {},
   "outputs": [
    {
     "data": {
      "text/html": [
       "<style  type=\"text/css\" >\n",
       "</style><table id=\"T_1cf37_\" ><caption>The total liquid water equivalent of presumably all precipitation on the observed days in the period 01.2010-05.2010:</caption><thead>    <tr>        <th class=\"blank level0\" ></th>        <th class=\"col_heading level0 col0\" >id</th>        <th class=\"col_heading level0 col1\" >date</th>        <th class=\"col_heading level0 col2\" >prcp</th>    </tr></thead><tbody>\n",
       "                <tr>\n",
       "                        <th id=\"T_1cf37_level0_row0\" class=\"row_heading level0 row0\" >1</th>\n",
       "                        <td id=\"T_1cf37_row0_col0\" class=\"data row0 col0\" >MX000017004</td>\n",
       "                        <td id=\"T_1cf37_row0_col1\" class=\"data row0 col1\" >2010-05-29</td>\n",
       "                        <td id=\"T_1cf37_row0_col2\" class=\"data row0 col2\" >2.5</td>\n",
       "            </tr>\n",
       "    </tbody></table>"
      ],
      "text/plain": [
       "<pandas.io.formats.style.Styler at 0x21c41192d00>"
      ]
     },
     "execution_count": 5,
     "metadata": {},
     "output_type": "execute_result"
    }
   ],
   "source": [
    "prcp_data"
   ]
  },
  {
   "cell_type": "code",
   "execution_count": 6,
   "id": "c934d781",
   "metadata": {},
   "outputs": [
    {
     "data": {
      "text/html": [
       "<style  type=\"text/css\" >\n",
       "</style><table id=\"T_f5c36_\" ><caption>The maximum and minimum temperatures on the observed days in the period 01.2010-05.2010:</caption><thead>    <tr>        <th class=\"blank level0\" ></th>        <th class=\"col_heading level0 col0\" >id</th>        <th class=\"col_heading level0 col1\" >date</th>        <th class=\"col_heading level0 col2\" >tmax</th>        <th class=\"col_heading level0 col3\" >tmin</th>    </tr></thead><tbody>\n",
       "                <tr>\n",
       "                        <th id=\"T_f5c36_level0_row0\" class=\"row_heading level0 row0\" >1</th>\n",
       "                        <td id=\"T_f5c36_row0_col0\" class=\"data row0 col0\" >MX000017004</td>\n",
       "                        <td id=\"T_f5c36_row0_col1\" class=\"data row0 col1\" >2010-01-30</td>\n",
       "                        <td id=\"T_f5c36_row0_col2\" class=\"data row0 col2\" >27.8</td>\n",
       "                        <td id=\"T_f5c36_row0_col3\" class=\"data row0 col3\" >14.5</td>\n",
       "            </tr>\n",
       "            <tr>\n",
       "                        <th id=\"T_f5c36_level0_row1\" class=\"row_heading level0 row1\" >2</th>\n",
       "                        <td id=\"T_f5c36_row1_col0\" class=\"data row1 col0\" >MX000017004</td>\n",
       "                        <td id=\"T_f5c36_row1_col1\" class=\"data row1 col1\" >2010-02-02</td>\n",
       "                        <td id=\"T_f5c36_row1_col2\" class=\"data row1 col2\" >27.3</td>\n",
       "                        <td id=\"T_f5c36_row1_col3\" class=\"data row1 col3\" >14.4</td>\n",
       "            </tr>\n",
       "            <tr>\n",
       "                        <th id=\"T_f5c36_level0_row2\" class=\"row_heading level0 row2\" >3</th>\n",
       "                        <td id=\"T_f5c36_row2_col0\" class=\"data row2 col0\" >MX000017004</td>\n",
       "                        <td id=\"T_f5c36_row2_col1\" class=\"data row2 col1\" >2010-02-03</td>\n",
       "                        <td id=\"T_f5c36_row2_col2\" class=\"data row2 col2\" >24.1</td>\n",
       "                        <td id=\"T_f5c36_row2_col3\" class=\"data row2 col3\" >14.4</td>\n",
       "            </tr>\n",
       "            <tr>\n",
       "                        <th id=\"T_f5c36_level0_row3\" class=\"row_heading level0 row3\" >4</th>\n",
       "                        <td id=\"T_f5c36_row3_col0\" class=\"data row3 col0\" >MX000017004</td>\n",
       "                        <td id=\"T_f5c36_row3_col1\" class=\"data row3 col1\" >2010-02-11</td>\n",
       "                        <td id=\"T_f5c36_row3_col2\" class=\"data row3 col2\" >29.7</td>\n",
       "                        <td id=\"T_f5c36_row3_col3\" class=\"data row3 col3\" >13.4</td>\n",
       "            </tr>\n",
       "            <tr>\n",
       "                        <th id=\"T_f5c36_level0_row4\" class=\"row_heading level0 row4\" >5</th>\n",
       "                        <td id=\"T_f5c36_row4_col0\" class=\"data row4 col0\" >MX000017004</td>\n",
       "                        <td id=\"T_f5c36_row4_col1\" class=\"data row4 col1\" >2010-02-23</td>\n",
       "                        <td id=\"T_f5c36_row4_col2\" class=\"data row4 col2\" >29.9</td>\n",
       "                        <td id=\"T_f5c36_row4_col3\" class=\"data row4 col3\" >10.7</td>\n",
       "            </tr>\n",
       "            <tr>\n",
       "                        <th id=\"T_f5c36_level0_row5\" class=\"row_heading level0 row5\" >6</th>\n",
       "                        <td id=\"T_f5c36_row5_col0\" class=\"data row5 col0\" >MX000017004</td>\n",
       "                        <td id=\"T_f5c36_row5_col1\" class=\"data row5 col1\" >2010-03-05</td>\n",
       "                        <td id=\"T_f5c36_row5_col2\" class=\"data row5 col2\" >32.1</td>\n",
       "                        <td id=\"T_f5c36_row5_col3\" class=\"data row5 col3\" >14.2</td>\n",
       "            </tr>\n",
       "            <tr>\n",
       "                        <th id=\"T_f5c36_level0_row6\" class=\"row_heading level0 row6\" >7</th>\n",
       "                        <td id=\"T_f5c36_row6_col0\" class=\"data row6 col0\" >MX000017004</td>\n",
       "                        <td id=\"T_f5c36_row6_col1\" class=\"data row6 col1\" >2010-03-10</td>\n",
       "                        <td id=\"T_f5c36_row6_col2\" class=\"data row6 col2\" >34.5</td>\n",
       "                        <td id=\"T_f5c36_row6_col3\" class=\"data row6 col3\" >16.8</td>\n",
       "            </tr>\n",
       "            <tr>\n",
       "                        <th id=\"T_f5c36_level0_row7\" class=\"row_heading level0 row7\" >8</th>\n",
       "                        <td id=\"T_f5c36_row7_col0\" class=\"data row7 col0\" >MX000017004</td>\n",
       "                        <td id=\"T_f5c36_row7_col1\" class=\"data row7 col1\" >2010-03-16</td>\n",
       "                        <td id=\"T_f5c36_row7_col2\" class=\"data row7 col2\" >31.1</td>\n",
       "                        <td id=\"T_f5c36_row7_col3\" class=\"data row7 col3\" >17.6</td>\n",
       "            </tr>\n",
       "            <tr>\n",
       "                        <th id=\"T_f5c36_level0_row8\" class=\"row_heading level0 row8\" >9</th>\n",
       "                        <td id=\"T_f5c36_row8_col0\" class=\"data row8 col0\" >MX000017004</td>\n",
       "                        <td id=\"T_f5c36_row8_col1\" class=\"data row8 col1\" >2010-04-27</td>\n",
       "                        <td id=\"T_f5c36_row8_col2\" class=\"data row8 col2\" >36.3</td>\n",
       "                        <td id=\"T_f5c36_row8_col3\" class=\"data row8 col3\" >16.7</td>\n",
       "            </tr>\n",
       "            <tr>\n",
       "                        <th id=\"T_f5c36_level0_row9\" class=\"row_heading level0 row9\" >10</th>\n",
       "                        <td id=\"T_f5c36_row9_col0\" class=\"data row9 col0\" >MX000017004</td>\n",
       "                        <td id=\"T_f5c36_row9_col1\" class=\"data row9 col1\" >2010-05-27</td>\n",
       "                        <td id=\"T_f5c36_row9_col2\" class=\"data row9 col2\" >33.2</td>\n",
       "                        <td id=\"T_f5c36_row9_col3\" class=\"data row9 col3\" >18.2</td>\n",
       "            </tr>\n",
       "    </tbody></table>"
      ],
      "text/plain": [
       "<pandas.io.formats.style.Styler at 0x21c41192e20>"
      ]
     },
     "execution_count": 6,
     "metadata": {},
     "output_type": "execute_result"
    }
   ],
   "source": [
    "temp_data"
   ]
  },
  {
   "cell_type": "code",
   "execution_count": null,
   "id": "29af3d33",
   "metadata": {},
   "outputs": [],
   "source": []
  }
 ],
 "metadata": {
  "kernelspec": {
   "display_name": "Python 3",
   "language": "python",
   "name": "python3"
  },
  "language_info": {
   "codemirror_mode": {
    "name": "ipython",
    "version": 3
   },
   "file_extension": ".py",
   "mimetype": "text/x-python",
   "name": "python",
   "nbconvert_exporter": "python",
   "pygments_lexer": "ipython3",
   "version": "3.8.8"
  }
 },
 "nbformat": 4,
 "nbformat_minor": 5
}
