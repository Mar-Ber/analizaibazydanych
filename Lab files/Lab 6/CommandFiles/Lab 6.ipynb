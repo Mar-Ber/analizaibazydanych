{
 "cells": [
  {
   "cell_type": "markdown",
   "id": "e1a478c7",
   "metadata": {},
   "source": [
    "## Ćwiczenie 5 - Exploratory Data Analysis\n",
    "### Marcin Bereźnicki\n",
    "#### Dane: Województwo dolnośląskie"
   ]
  },
  {
   "cell_type": "code",
   "execution_count": 1,
   "id": "35b5f8d2",
   "metadata": {},
   "outputs": [],
   "source": [
    "import pandas as pd\n",
    "from collections import Counter\n",
    "import matplotlib.pyplot as plt\n",
    "import numpy as np"
   ]
  },
  {
   "cell_type": "markdown",
   "id": "6f9df395",
   "metadata": {},
   "source": [
    "## Odczyt oryginalnych danych\n"
   ]
  },
  {
   "cell_type": "code",
   "execution_count": 2,
   "id": "55d8e61c",
   "metadata": {},
   "outputs": [
    {
     "data": {
      "text/html": [
       "<div>\n",
       "<style scoped>\n",
       "    .dataframe tbody tr th:only-of-type {\n",
       "        vertical-align: middle;\n",
       "    }\n",
       "\n",
       "    .dataframe tbody tr th {\n",
       "        vertical-align: top;\n",
       "    }\n",
       "\n",
       "    .dataframe thead th {\n",
       "        text-align: right;\n",
       "    }\n",
       "</style>\n",
       "<table border=\"1\" class=\"dataframe\">\n",
       "  <thead>\n",
       "    <tr style=\"text-align: right;\">\n",
       "      <th></th>\n",
       "      <th>Dni od zakupu</th>\n",
       "      <th>Marka</th>\n",
       "      <th>Wiek kupującego</th>\n",
       "      <th>Płeć kupującego</th>\n",
       "      <th>Ocena</th>\n",
       "    </tr>\n",
       "  </thead>\n",
       "  <tbody>\n",
       "    <tr>\n",
       "      <th>0</th>\n",
       "      <td>6</td>\n",
       "      <td>Beko</td>\n",
       "      <td>33.0</td>\n",
       "      <td>bd.</td>\n",
       "      <td>1.0</td>\n",
       "    </tr>\n",
       "    <tr>\n",
       "      <th>1</th>\n",
       "      <td>7</td>\n",
       "      <td>Electrolux</td>\n",
       "      <td>28.0</td>\n",
       "      <td>bd.</td>\n",
       "      <td>3.5</td>\n",
       "    </tr>\n",
       "    <tr>\n",
       "      <th>2</th>\n",
       "      <td>3</td>\n",
       "      <td>Beko</td>\n",
       "      <td>30.0</td>\n",
       "      <td>bd.</td>\n",
       "      <td>2.5</td>\n",
       "    </tr>\n",
       "    <tr>\n",
       "      <th>3</th>\n",
       "      <td>6</td>\n",
       "      <td>Electrolux</td>\n",
       "      <td>40.0</td>\n",
       "      <td>bd.</td>\n",
       "      <td>3.5</td>\n",
       "    </tr>\n",
       "    <tr>\n",
       "      <th>4</th>\n",
       "      <td>4</td>\n",
       "      <td>Dyson</td>\n",
       "      <td>44.0</td>\n",
       "      <td>bd.</td>\n",
       "      <td>2.0</td>\n",
       "    </tr>\n",
       "    <tr>\n",
       "      <th>...</th>\n",
       "      <td>...</td>\n",
       "      <td>...</td>\n",
       "      <td>...</td>\n",
       "      <td>...</td>\n",
       "      <td>...</td>\n",
       "    </tr>\n",
       "    <tr>\n",
       "      <th>595</th>\n",
       "      <td>14</td>\n",
       "      <td>Electrolux</td>\n",
       "      <td>31.0</td>\n",
       "      <td>M</td>\n",
       "      <td>2.0</td>\n",
       "    </tr>\n",
       "    <tr>\n",
       "      <th>596</th>\n",
       "      <td>4</td>\n",
       "      <td>Tefal</td>\n",
       "      <td>NaN</td>\n",
       "      <td>bd.</td>\n",
       "      <td>3.5</td>\n",
       "    </tr>\n",
       "    <tr>\n",
       "      <th>597</th>\n",
       "      <td>8</td>\n",
       "      <td>Electrolux</td>\n",
       "      <td>39.0</td>\n",
       "      <td>bd.</td>\n",
       "      <td>1.0</td>\n",
       "    </tr>\n",
       "    <tr>\n",
       "      <th>598</th>\n",
       "      <td>5</td>\n",
       "      <td>Electrolux</td>\n",
       "      <td>47.0</td>\n",
       "      <td>K</td>\n",
       "      <td>2.5</td>\n",
       "    </tr>\n",
       "    <tr>\n",
       "      <th>599</th>\n",
       "      <td>7</td>\n",
       "      <td>Dyson</td>\n",
       "      <td>39.0</td>\n",
       "      <td>bd.</td>\n",
       "      <td>2.0</td>\n",
       "    </tr>\n",
       "  </tbody>\n",
       "</table>\n",
       "<p>600 rows × 5 columns</p>\n",
       "</div>"
      ],
      "text/plain": [
       "     Dni od zakupu       Marka  Wiek kupującego Płeć kupującego  Ocena\n",
       "0                6        Beko             33.0             bd.    1.0\n",
       "1                7  Electrolux             28.0             bd.    3.5\n",
       "2                3        Beko             30.0             bd.    2.5\n",
       "3                6  Electrolux             40.0             bd.    3.5\n",
       "4                4       Dyson             44.0             bd.    2.0\n",
       "..             ...         ...              ...             ...    ...\n",
       "595             14  Electrolux             31.0               M    2.0\n",
       "596              4       Tefal              NaN             bd.    3.5\n",
       "597              8  Electrolux             39.0             bd.    1.0\n",
       "598              5  Electrolux             47.0               K    2.5\n",
       "599              7       Dyson             39.0             bd.    2.0\n",
       "\n",
       "[600 rows x 5 columns]"
      ]
     },
     "execution_count": 2,
     "metadata": {},
     "output_type": "execute_result"
    }
   ],
   "source": [
    "# Odczyt oryginalnych danych\n",
    "data = pd.read_csv('../AnalysisData/0_DOLNOS╠üLA╠ĘSKIE.csv', sep=',')\n",
    "# Usunięcie pierwszej kolumny niezawierającej istotnych danych\n",
    "del data['Unnamed: 0']\n",
    "# Rozdzielenie DataFrame na kolumny\n",
    "days_data = data[data['Dni od zakupu'] >= 0]\n",
    "days_data = days_data['Dni od zakupu']\n",
    "name_data = data['Marka']\n",
    "age_data = data[data['Wiek kupującego'] >= 0]\n",
    "age_data = age_data['Wiek kupującego']\n",
    "gender_data = data[data['Płeć kupującego'] != 'bd.']\n",
    "gender_data = gender_data['Płeć kupującego']\n",
    "rate_data = data['Ocena']\n",
    "\n",
    "# Zapis danych do plików\n",
    "days_data.to_excel(excel_writer=\"../AnalysisData/days_data.xlsx\", index=False)\n",
    "name_data.to_excel(excel_writer=\"../AnalysisData/name_data.xlsx\", index=False)\n",
    "age_data.to_excel(excel_writer=\"../AnalysisData/age_data.xlsx\", index=False)\n",
    "gender_data.to_excel(excel_writer=\"../AnalysisData/gender_data.xlsx\", index=False)\n",
    "rate_data.to_excel(excel_writer=\"../AnalysisData/rate_data.xlsx\", index=False)\n",
    "\n",
    "data"
   ]
  },
  {
   "cell_type": "markdown",
   "id": "e9b821b1",
   "metadata": {},
   "source": [
    "## Czas od zakupu do wystawienia oceny\n",
    "Zmienna 'Dni od zakupu' zawiera wartości całkowitoliczbowe. Określają one ile czasu minęło od zakupu do wystawienia oceny na temat zakupionego odkurzacza. Najmniejsza jej wartość wynosi 0, a największa 16. Tworząc histogram można przyjąć, że każdy słupek będzie reprezentował jeden dzień.\n",
    "\n",
    "W związku z tym liczba przedziałów wyniesie 17, natomiast szerokość przedziału wyniesie 1."
   ]
  },
  {
   "cell_type": "code",
   "execution_count": 3,
   "id": "a65542bc",
   "metadata": {},
   "outputs": [
    {
     "data": {
      "image/png": "[encoded data removed]",
      "text/plain": [
       "<Figure size 576x360 with 1 Axes>"
      ]
     },
     "metadata": {
      "needs_background": "light"
     },
     "output_type": "display_data"
    }
   ],
   "source": [
    "day_min = days_data.min()\n",
    "day_max = days_data.max()\n",
    "counts = Counter(days_data)\n",
    "bins_ = np.arange(0, 18, 1)\n",
    "plt.rcParams[\"figure.figsize\"] = (8, 5)\n",
    "plt.grid(zorder=0)\n",
    "plt.hist(days_data, bins=bins_, zorder=3)\n",
    "plt.xlim([-0.2, 17.2])\n",
    "plt.xticks(np.arange (0, 18, 1))\n",
    "plt.yticks(np.arange(0, 120, 10))\n",
    "plt.xlabel('Dni od zakupu', fontsize=13)\n",
    "plt.ylabel('Częstość', fontsize=13)\n",
    "plt.title('Histogram czasu od zakupu do wystawienia oceny', fontsize=13)\n",
    "plt.show()"
   ]
  },
  {
   "cell_type": "markdown",
   "id": "58d41c20",
   "metadata": {},
   "source": [
    "Na histogramie widać, że najwięcej kupujących wystawiło ocenę w 6 dniu od zakupu, natomiast najmniej w 0 oraz 16 dniu."
   ]
  },
  {
   "cell_type": "markdown",
   "id": "e18a2416",
   "metadata": {},
   "source": [
    "## Ilość zakupionych odkurzaczy danej marki\n",
    "Zmienna 'Marka' zawiera ciągi znaków. Określa ona nazwy marek odkurzaczy, które zostały zakupione przez klientów sklepu. Istnieje 5 różnych marek, a na utworzonym wykresie każdy słupek będzie reprezentował jedną markę.\n",
    "\n",
    "W związku z tym liczba przedziałów wyniesie 5."
   ]
  },
  {
   "cell_type": "code",
   "execution_count": 4,
   "id": "c934d781",
   "metadata": {},
   "outputs": [
    {
     "data": {
      "image/png": "[encoded data removed]",
      "text/plain": [
       "<Figure size 432x360 with 1 Axes>"
      ]
     },
     "metadata": {
      "needs_background": "light"
     },
     "output_type": "display_data"
    }
   ],
   "source": [
    "counts = Counter(name_data)\n",
    "x_ax = [item for item in counts.keys()]\n",
    "y_ax = [item for item in counts.values()]\n",
    "plt.rcParams[\"figure.figsize\"] = (6, 5)\n",
    "plt.grid(zorder=0)\n",
    "plt.bar(x_ax, y_ax, zorder=3)\n",
    "plt.xlabel('Marka', fontsize=13)\n",
    "plt.ylabel('Częstość', fontsize=13)\n",
    "plt.title('Ilość zakupionych odkurzaczy danej marki', fontsize=13)\n",
    "plt.show()"
   ]
  },
  {
   "cell_type": "markdown",
   "id": "ad35a739",
   "metadata": {},
   "source": [
    "Na podstawie wykresu można stwierdzić, że klienci najczęściej wybierali odkurzacze marki Electrolux, a najrzadziej Samsung."
   ]
  },
  {
   "cell_type": "markdown",
   "id": "bfaa08a1",
   "metadata": {},
   "source": [
    "## Wiek kupującego\n",
    "Zmienna 'Wiek kupującego' zawiera wartości zmiennoprzecinkowe. Określają one w jakim wieku była osoba dokonująca zakupu odkurzacza. Najmniejsza jej wartość wynosi 19, a największa 72, co oznacza, że jest 54 różne wartości wieku. Wszystkie wartości mają zerowe części dziesiętne. Tworząc histogram można przyjąć, że jeden słupek będzie odpowiadał za 5 wartości wieku.\n",
    "\n",
    "W związku z tym liczba przedziałów wyniesie 11, natomiast szerokość przedziału wyniesie 5."
   ]
  },
  {
   "cell_type": "code",
   "execution_count": 5,
   "id": "29af3d33",
   "metadata": {},
   "outputs": [
    {
     "data": {
      "image/png": "[encoded data removed]",
      "text/plain": [
       "<Figure size 576x432 with 1 Axes>"
      ]
     },
     "metadata": {
      "needs_background": "light"
     },
     "output_type": "display_data"
    }
   ],
   "source": [
    "age_min = age_data.min()\n",
    "age_max = age_data.max()\n",
    "counts = Counter(age_data)\n",
    "bins_ = np.arange(19, 75, 5)\n",
    "plt.rcParams[\"figure.figsize\"] = (8, 6)\n",
    "plt.grid(zorder=0)\n",
    "plt.hist(age_data, bins=bins_, zorder=3)\n",
    "plt.xlim([18, 75])\n",
    "plt.xticks(np.arange(19, 75, 5))\n",
    "plt.yticks(np.arange(0, 120, 10))\n",
    "plt.xlabel('Wiek', fontsize=13)\n",
    "plt.ylabel('Częstość', fontsize=13)\n",
    "plt.title('Histogram wieku kupujących', fontsize=13)\n",
    "plt.show()"
   ]
  },
  {
   "cell_type": "markdown",
   "id": "51e7466a",
   "metadata": {},
   "source": [
    "Na histogramie widać, że najwięcej kupujących było w wieku od 39 do 44 lat, natomiast najmniej między 64 a 69 rokiem życia."
   ]
  },
  {
   "cell_type": "markdown",
   "id": "c401375c",
   "metadata": {},
   "source": [
    "## Płeć kupującego\n",
    "Zmienna 'Płeć kupującego' zawiera ciągi znaków. Określa ona płeć klientów, przez których zostały zakupione odkurzacze w sklepie. Przybiera ona 3 różne wartości, ze względu na brak danych dla niektórych zakupów. Utworzony wykres będzie zawierał jeden słupek dla każdej płci (zakupy z brakiem informacji o płci nie są brane pod uwagę).\n",
    "\n",
    "W związku z tym liczba przedziałów wyniesie 2."
   ]
  },
  {
   "cell_type": "code",
   "execution_count": 6,
   "id": "6d29a5e8",
   "metadata": {},
   "outputs": [
    {
     "data": {
      "image/png": "[encoded data removed]",
      "text/plain": [
       "<Figure size 288x360 with 1 Axes>"
      ]
     },
     "metadata": {
      "needs_background": "light"
     },
     "output_type": "display_data"
    }
   ],
   "source": [
    "counts = Counter(gender_data)\n",
    "x_ax = [item for item in counts.keys()]\n",
    "y_ax = [item for item in counts.values()]\n",
    "plt.rcParams[\"figure.figsize\"] = (4, 5)\n",
    "plt.grid(zorder=0)\n",
    "plt.bar(x_ax, y_ax, zorder=3)\n",
    "plt.xlabel('Płeć', fontsize=13)\n",
    "plt.ylabel('Częstość', fontsize=13)\n",
    "plt.title('Ilość klientów danej płci', fontsize=13)\n",
    "plt.show()"
   ]
  },
  {
   "cell_type": "markdown",
   "id": "b2366243",
   "metadata": {},
   "source": [
    "Na podstawie wykresu można stwierdzić, że większość klientów stanowili mężczyźni."
   ]
  },
  {
   "cell_type": "markdown",
   "id": "44dd8397",
   "metadata": {},
   "source": [
    "## Ocena zakupu\n",
    "Zmienna 'Ocena' zawiera wartości zmiennoprzecinkowe. Określa ona w jakim stopniu od 0 do 5 zakup spełnia oczekiwania klientów. Najmniejsza ocena wynosi 0.0, zwiększając się co 0.5, aż do największej wynoszącej 5.0. Tworząc histogram można przyjąć osobny słupek dla każdej możliwej oceny. \n",
    "\n",
    "W związku z tym liczba przedziałów wyniesie 11, natomiast szerokość przedziału wyniesie 0.5."
   ]
  },
  {
   "cell_type": "code",
   "execution_count": 7,
   "id": "b0288bf1",
   "metadata": {},
   "outputs": [
    {
     "data": {
      "image/png": "[encoded data removed]",
      "text/plain": [
       "<Figure size 576x360 with 1 Axes>"
      ]
     },
     "metadata": {
      "needs_background": "light"
     },
     "output_type": "display_data"
    }
   ],
   "source": [
    "counts = Counter(rate_data)\n",
    "bins_ = len(counts)\n",
    "plt.rcParams[\"figure.figsize\"] = (8, 5)\n",
    "plt.grid(zorder=0)\n",
    "plt.hist(rate_data, bins=np.linspace(start=0, stop=5.5, num=bins_+1), zorder=3)\n",
    "plt.xlim([-0.2, 5.7])\n",
    "plt.xticks(np.arange (0, 5.5, 0.5))\n",
    "plt.xlabel('Ocena', fontsize=13)\n",
    "plt.ylabel('Częstość', fontsize=13)\n",
    "plt.title('Histogram ocen zakupu', fontsize=13)\n",
    "plt.show()"
   ]
  },
  {
   "cell_type": "markdown",
   "id": "dfbf50b7",
   "metadata": {},
   "source": [
    "Najwiecej klientów wystawiło ocenę 2.5, natomiast najmniej ocenę 0."
   ]
  },
  {
   "cell_type": "code",
   "execution_count": null,
   "id": "c1e29329",
   "metadata": {},
   "outputs": [],
   "source": []
  }
 ],
 "metadata": {
  "kernelspec": {
   "display_name": "Python 3",
   "language": "python",
   "name": "python3"
  },
  "language_info": {
   "codemirror_mode": {
    "name": "ipython",
    "version": 3
   },
   "file_extension": ".py",
   "mimetype": "text/x-python",
   "name": "python",
   "nbconvert_exporter": "python",
   "pygments_lexer": "ipython3",
   "version": "3.9.4"
  }
 },
 "nbformat": 4,
 "nbformat_minor": 5
}
